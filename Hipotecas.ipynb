{
 "cells": [
  {
   "cell_type": "markdown",
   "metadata": {},
   "source": [
    "<div style=\"width: 100%; clear: both;\">\n",
    "<div style=\"float: left; width: 50%;\">\n",
    "<img src=\"http://www.uoc.edu/portal/_resources/common/imatges/marca_UOC/UOC_Masterbrand.jpg\", align=\"left\">\n",
    "</div>\n",
    "<div style=\"float: right; width: 50%;\">\n",
    "<p style=\"margin: 0; padding-top: 22px; text-align:right;\">M2.855 · Tipología y ciclo de vida de los datos · PRA2</p>\n",
    "<p style=\"margin: 0; text-align:right;\">2020-2 · Máster universitario en Ciencia de datos (<i>Data science</i>)</p>\n",
    "<p style=\"margin: 0; text-align:right; padding-button: 100px;\">Estudios de Informática, Multimedia y Telecomunicación</p>\n",
    "</div>\n",
    "</div>\n",
    "<div style=\"width:100%;\">&nbsp;</div>\n",
    "\n",
    "\n",
    "# Práctica 2\n",
    "\n",
    "Siguiendo las principales etapas de un proyecto analítico, las diferentes tareas a realizar (y\n",
    "justificar) en esta práctica son las siguientes:\n",
    "\n",
    "1. Descripción del dataset. ¿Por qué es importante y qué pregunta/problema pretende\n",
    "responder?\n",
    "2. Integración y selección de los datos de interés a analizar.\n",
    "3. Limpieza de los datos.\n",
    "3.1. ¿Los datos contienen ceros o elementos vacíos? ¿Cómo gestionarías cada uno\n",
    "de estos casos?\n",
    "3.2. Identificación y tratamiento de valores extremos.\n",
    "4. Análisis de los datos.\n",
    "\n",
    "    4.1. Selección de los grupos de datos que se quieren analizar/comparar (planificación de los análisis a aplicar).\n",
    "    \n",
    "    4.2. Comprobación de la normalidad y homogeneidad de la varianza.\n",
    "    \n",
    "    4.3. Aplicación de pruebas estadísticas para comparar los grupos de datos. En función de los datos y el objetivo del estudio, aplicar pruebas de contraste de hipótesis, correlaciones, regresiones, etc. Aplicar al menos tres métodos de análisis diferentes.\n",
    "\n",
    "\n",
    "5. Representación de los resultados a partir de tablas y gráficas.\n",
    "6. Resolución del problema. A partir de los resultados obtenidos, ¿cuáles son las conclusiones? ¿Los resultados permiten responder al problema?"
   ]
  },
  {
   "cell_type": "code",
   "execution_count": 59,
   "metadata": {},
   "outputs": [],
   "source": [
    "import numpy as np \n",
    "import pandas as pd\n",
    "import seaborn as sns\n",
    "\n",
    "from sklearn import datasets\n",
    "from sklearn.ensemble import GradientBoostingClassifier, RandomForestClassifier\n",
    "from sklearn.linear_model import LogisticRegression\n",
    "from sklearn.metrics import accuracy_score, confusion_matrix\n",
    "from sklearn.model_selection import train_test_split, GridSearchCV\n",
    "from sklearn.naive_bayes import GaussianNB\n",
    "from sklearn.neighbors import KNeighborsClassifier\n",
    "from sklearn.preprocessing import OneHotEncoder\n",
    "from sklearn.svm import SVC\n",
    "from sklearn.tree import DecisionTreeClassifier, export_graphviz\n",
    "from sklearn.utils import check_random_state\n",
    "from sklearn import tree\n",
    "from tqdm import tqdm\n",
    "\n",
    "# Visualizar árboles\n",
    "from IPython.display import Image\n",
    "import pydotplus\n",
    "from six import StringIO\n",
    "\n",
    "# Visualización\n",
    "from matplotlib.colors import ListedColormap\n",
    "import matplotlib.pyplot as plt\n",
    "from scipy import stats\n",
    "\n",
    "%matplotlib inline"
   ]
  },
  {
   "cell_type": "markdown",
   "metadata": {},
   "source": [
    "# 1. Descripción del dataset\n",
    "\n",
    "Para este ejercicio se proporciona un _dataset_ con datos sobre diferentes clientes de un banco que quieren comprar un piso, y si el banco les ha concedido la hipoteca o no. \n",
    "\n",
    "La información es la siguiente:\n",
    "\n",
    "  - `ingresos`: los ingresos mensuales de la familia.\n",
    "  - `gastos_comunes`: pagos mensuales de luz, agua, gas, etc.\n",
    "  - `pago_coche`: si se está pagando cuota por uno o más coches, y los gastos mensuales en combustible, etc.\n",
    "  - `gastos_otros`: compra mensual en supermercado y lo necesario para vivir.\n",
    "  - `ahorros`: suma de ahorros dispuestos a utilizar para la compra de la casa.\n",
    "  - `vivienda`: precio de la vivienda que quiere comprar esta familia.\n",
    "  - `estado_civil`: 0-soltero, 1-casados, 2-divorciados\n",
    "  - `hijos`: cantidad de hijos menores y que no trabajan.\n",
    "  - `trabajo`: 0-sin empleo, 1-autónomo (freelance), 2-empleado, 3-empresario, 4-pareja: autónomos, 5-pareja: empleados, 6-pareja: autónomo y asalariado, 7-pareja: empresario y autónomo , 8-pareja: empresarios los dos o empresario y empleado\n",
    "  - `hipoteca`: 0-No ha sido concedida, 1-Si que ha sido concedida (esta será nuestra columna de salida, para aprender)\n",
    "  \n",
    "Empezamos leyendo el _dataset_ y viendo una muestra de las primeras filas."
   ]
  },
  {
   "cell_type": "code",
   "execution_count": 2,
   "metadata": {},
   "outputs": [
    {
     "data": {
      "text/html": [
       "<div>\n",
       "<style scoped>\n",
       "    .dataframe tbody tr th:only-of-type {\n",
       "        vertical-align: middle;\n",
       "    }\n",
       "\n",
       "    .dataframe tbody tr th {\n",
       "        vertical-align: top;\n",
       "    }\n",
       "\n",
       "    .dataframe thead th {\n",
       "        text-align: right;\n",
       "    }\n",
       "</style>\n",
       "<table border=\"1\" class=\"dataframe\">\n",
       "  <thead>\n",
       "    <tr style=\"text-align: right;\">\n",
       "      <th></th>\n",
       "      <th>ingresos</th>\n",
       "      <th>gastos_comunes</th>\n",
       "      <th>pago_coche</th>\n",
       "      <th>gastos_otros</th>\n",
       "      <th>ahorros</th>\n",
       "      <th>vivienda</th>\n",
       "      <th>estado_civil</th>\n",
       "      <th>hijos</th>\n",
       "      <th>trabajo</th>\n",
       "      <th>hipoteca</th>\n",
       "    </tr>\n",
       "  </thead>\n",
       "  <tbody>\n",
       "    <tr>\n",
       "      <th>0</th>\n",
       "      <td>6000</td>\n",
       "      <td>1000</td>\n",
       "      <td>0</td>\n",
       "      <td>600</td>\n",
       "      <td>50000</td>\n",
       "      <td>400000</td>\n",
       "      <td>0</td>\n",
       "      <td>2</td>\n",
       "      <td>2</td>\n",
       "      <td>1</td>\n",
       "    </tr>\n",
       "    <tr>\n",
       "      <th>1</th>\n",
       "      <td>6745</td>\n",
       "      <td>944</td>\n",
       "      <td>123</td>\n",
       "      <td>429</td>\n",
       "      <td>43240</td>\n",
       "      <td>636897</td>\n",
       "      <td>1</td>\n",
       "      <td>3</td>\n",
       "      <td>6</td>\n",
       "      <td>0</td>\n",
       "    </tr>\n",
       "    <tr>\n",
       "      <th>2</th>\n",
       "      <td>6455</td>\n",
       "      <td>1033</td>\n",
       "      <td>98</td>\n",
       "      <td>795</td>\n",
       "      <td>57463</td>\n",
       "      <td>321779</td>\n",
       "      <td>2</td>\n",
       "      <td>1</td>\n",
       "      <td>8</td>\n",
       "      <td>1</td>\n",
       "    </tr>\n",
       "    <tr>\n",
       "      <th>3</th>\n",
       "      <td>7098</td>\n",
       "      <td>1278</td>\n",
       "      <td>15</td>\n",
       "      <td>254</td>\n",
       "      <td>54506</td>\n",
       "      <td>660933</td>\n",
       "      <td>0</td>\n",
       "      <td>0</td>\n",
       "      <td>3</td>\n",
       "      <td>0</td>\n",
       "    </tr>\n",
       "    <tr>\n",
       "      <th>4</th>\n",
       "      <td>6167</td>\n",
       "      <td>863</td>\n",
       "      <td>223</td>\n",
       "      <td>520</td>\n",
       "      <td>41512</td>\n",
       "      <td>348932</td>\n",
       "      <td>0</td>\n",
       "      <td>0</td>\n",
       "      <td>3</td>\n",
       "      <td>1</td>\n",
       "    </tr>\n",
       "    <tr>\n",
       "      <th>5</th>\n",
       "      <td>5692</td>\n",
       "      <td>911</td>\n",
       "      <td>11</td>\n",
       "      <td>325</td>\n",
       "      <td>50875</td>\n",
       "      <td>360863</td>\n",
       "      <td>1</td>\n",
       "      <td>4</td>\n",
       "      <td>5</td>\n",
       "      <td>1</td>\n",
       "    </tr>\n",
       "    <tr>\n",
       "      <th>6</th>\n",
       "      <td>6830</td>\n",
       "      <td>1298</td>\n",
       "      <td>345</td>\n",
       "      <td>309</td>\n",
       "      <td>46761</td>\n",
       "      <td>429812</td>\n",
       "      <td>1</td>\n",
       "      <td>1</td>\n",
       "      <td>5</td>\n",
       "      <td>1</td>\n",
       "    </tr>\n",
       "    <tr>\n",
       "      <th>7</th>\n",
       "      <td>6470</td>\n",
       "      <td>1035</td>\n",
       "      <td>39</td>\n",
       "      <td>782</td>\n",
       "      <td>57439</td>\n",
       "      <td>606291</td>\n",
       "      <td>0</td>\n",
       "      <td>0</td>\n",
       "      <td>1</td>\n",
       "      <td>0</td>\n",
       "    </tr>\n",
       "    <tr>\n",
       "      <th>8</th>\n",
       "      <td>6251</td>\n",
       "      <td>1250</td>\n",
       "      <td>209</td>\n",
       "      <td>571</td>\n",
       "      <td>50503</td>\n",
       "      <td>291010</td>\n",
       "      <td>0</td>\n",
       "      <td>0</td>\n",
       "      <td>3</td>\n",
       "      <td>1</td>\n",
       "    </tr>\n",
       "    <tr>\n",
       "      <th>9</th>\n",
       "      <td>6987</td>\n",
       "      <td>1258</td>\n",
       "      <td>252</td>\n",
       "      <td>245</td>\n",
       "      <td>40611</td>\n",
       "      <td>324098</td>\n",
       "      <td>2</td>\n",
       "      <td>1</td>\n",
       "      <td>7</td>\n",
       "      <td>1</td>\n",
       "    </tr>\n",
       "  </tbody>\n",
       "</table>\n",
       "</div>"
      ],
      "text/plain": [
       "   ingresos  gastos_comunes  pago_coche  gastos_otros  ahorros  vivienda  \\\n",
       "0      6000            1000           0           600    50000    400000   \n",
       "1      6745             944         123           429    43240    636897   \n",
       "2      6455            1033          98           795    57463    321779   \n",
       "3      7098            1278          15           254    54506    660933   \n",
       "4      6167             863         223           520    41512    348932   \n",
       "5      5692             911          11           325    50875    360863   \n",
       "6      6830            1298         345           309    46761    429812   \n",
       "7      6470            1035          39           782    57439    606291   \n",
       "8      6251            1250         209           571    50503    291010   \n",
       "9      6987            1258         252           245    40611    324098   \n",
       "\n",
       "   estado_civil  hijos  trabajo  hipoteca  \n",
       "0             0      2        2         1  \n",
       "1             1      3        6         0  \n",
       "2             2      1        8         1  \n",
       "3             0      0        3         0  \n",
       "4             0      0        3         1  \n",
       "5             1      4        5         1  \n",
       "6             1      1        5         1  \n",
       "7             0      0        1         0  \n",
       "8             0      0        3         1  \n",
       "9             2      1        7         1  "
      ]
     },
     "execution_count": 2,
     "metadata": {},
     "output_type": "execute_result"
    }
   ],
   "source": [
    "hipotecas = pd.read_csv(\"hipotecas.csv\")\n",
    "hipotecas.head(10)"
   ]
  },
  {
   "cell_type": "markdown",
   "metadata": {},
   "source": [
    "### 2. Integración y selección de los datos de interés a analizar.\n",
    "\n"
   ]
  },
  {
   "cell_type": "markdown",
   "metadata": {},
   "source": [
    "#### Análisis descriptivo\n",
    "\n",
    "Cuando se nos proporciona un _dataset_, antes de empezar a hacer nada, es muy importante hacer un análisis exploratorio para conocer los datos con los que trabajaremos."
   ]
  },
  {
   "cell_type": "code",
   "execution_count": 3,
   "metadata": {},
   "outputs": [
    {
     "data": {
      "text/plain": [
       "0    135\n",
       "1     67\n",
       "Name: hipoteca, dtype: int64"
      ]
     },
     "execution_count": 3,
     "metadata": {},
     "output_type": "execute_result"
    }
   ],
   "source": [
    "# Cálculo de frecuencias absolutas de la variable hipoteca\n",
    "pd.value_counts(hipotecas['hipoteca'])"
   ]
  },
  {
   "cell_type": "code",
   "execution_count": 4,
   "metadata": {},
   "outputs": [
    {
     "data": {
      "image/png": "[encoded data removed]",
      "text/plain": [
       "<Figure size 432x288 with 1 Axes>"
      ]
     },
     "metadata": {
      "needs_background": "light"
     },
     "output_type": "display_data"
    }
   ],
   "source": [
    "# Gráfico de barras de las variable estado_civil\n",
    "plot = hipotecas['estado_civil'].value_counts().plot(kind='bar', title='Estado civil')"
   ]
  },
  {
   "cell_type": "code",
   "execution_count": 5,
   "metadata": {},
   "outputs": [
    {
     "data": {
      "image/png": "[encoded data removed]",
      "text/plain": [
       "<Figure size 432x288 with 1 Axes>"
      ]
     },
     "metadata": {
      "needs_background": "light"
     },
     "output_type": "display_data"
    }
   ],
   "source": [
    "# Gráfico de barras de las variable hijos\n",
    "plot = hipotecas['hijos'].value_counts().plot(kind='bar', title='Nº de hijos')"
   ]
  },
  {
   "cell_type": "code",
   "execution_count": 6,
   "metadata": {},
   "outputs": [
    {
     "data": {
      "image/png": "[encoded data removed]",
      "text/plain": [
       "<Figure size 432x288 with 1 Axes>"
      ]
     },
     "metadata": {
      "needs_background": "light"
     },
     "output_type": "display_data"
    }
   ],
   "source": [
    "# Gráfico de barras de las variable trabajo\n",
    "plot = hipotecas['trabajo'].value_counts().plot(kind='bar', title='Tipo trabajo')"
   ]
  },
  {
   "cell_type": "code",
   "execution_count": 7,
   "metadata": {},
   "outputs": [
    {
     "data": {
      "text/plain": [
       "Text(0.5, 1.0, 'ingresos')"
      ]
     },
     "execution_count": 7,
     "metadata": {},
     "output_type": "execute_result"
    },
    {
     "data": {
      "image/png": "[encoded data removed]",
      "text/plain": [
       "<Figure size 432x288 with 1 Axes>"
      ]
     },
     "metadata": {
      "needs_background": "light"
     },
     "output_type": "display_data"
    }
   ],
   "source": [
    "# Histograma de la variable ingresos\n",
    "plt.hist(hipotecas['ingresos'])\n",
    "plt.title('ingresos')"
   ]
  },
  {
   "cell_type": "code",
   "execution_count": 8,
   "metadata": {},
   "outputs": [
    {
     "data": {
      "text/plain": [
       "Text(0.5, 1.0, 'gastos comunes')"
      ]
     },
     "execution_count": 8,
     "metadata": {},
     "output_type": "execute_result"
    },
    {
     "data": {
      "image/png": "[encoded data removed]",
      "text/plain": [
       "<Figure size 432x288 with 1 Axes>"
      ]
     },
     "metadata": {
      "needs_background": "light"
     },
     "output_type": "display_data"
    }
   ],
   "source": [
    "# Histograma de la variable gastos_comunes\n",
    "plt.hist(hipotecas['gastos_comunes'])\n",
    "plt.title('gastos comunes')"
   ]
  },
  {
   "cell_type": "code",
   "execution_count": 9,
   "metadata": {
    "scrolled": true
   },
   "outputs": [
    {
     "data": {
      "text/plain": [
       "Text(0.5, 1.0, 'cuota del coche')"
      ]
     },
     "execution_count": 9,
     "metadata": {},
     "output_type": "execute_result"
    },
    {
     "data": {
      "image/png": "[encoded data removed]",
      "text/plain": [
       "<Figure size 432x288 with 1 Axes>"
      ]
     },
     "metadata": {
      "needs_background": "light"
     },
     "output_type": "display_data"
    }
   ],
   "source": [
    "# Histograma de la variable pago_coche\n",
    "plt.hist(hipotecas['pago_coche'])\n",
    "plt.title('cuota del coche')"
   ]
  },
  {
   "cell_type": "code",
   "execution_count": 10,
   "metadata": {
    "scrolled": true
   },
   "outputs": [
    {
     "data": {
      "text/plain": [
       "Text(0.5, 1.0, 'Otros gastos necesarios')"
      ]
     },
     "execution_count": 10,
     "metadata": {},
     "output_type": "execute_result"
    },
    {
     "data": {
      "image/png": "[encoded data removed]",
      "text/plain": [
       "<Figure size 432x288 with 1 Axes>"
      ]
     },
     "metadata": {
      "needs_background": "light"
     },
     "output_type": "display_data"
    }
   ],
   "source": [
    "# Histograma de la variable gastos_otros\n",
    "plt.hist(hipotecas['gastos_otros'])\n",
    "plt.title('Otros gastos necesarios')"
   ]
  },
  {
   "cell_type": "code",
   "execution_count": 11,
   "metadata": {},
   "outputs": [
    {
     "data": {
      "text/plain": [
       "Text(0.5, 1.0, 'Ahorros aportados')"
      ]
     },
     "execution_count": 11,
     "metadata": {},
     "output_type": "execute_result"
    },
    {
     "data": {
      "image/png": "[encoded data removed]",
      "text/plain": [
       "<Figure size 432x288 with 1 Axes>"
      ]
     },
     "metadata": {
      "needs_background": "light"
     },
     "output_type": "display_data"
    }
   ],
   "source": [
    "# Histograma de la variable ahorros\n",
    "plt.hist(hipotecas['ahorros'])\n",
    "plt.title('Ahorros aportados')"
   ]
  },
  {
   "cell_type": "code",
   "execution_count": 12,
   "metadata": {},
   "outputs": [
    {
     "data": {
      "text/plain": [
       "Text(0.5, 1.0, 'Importe de la vivienda')"
      ]
     },
     "execution_count": 12,
     "metadata": {},
     "output_type": "execute_result"
    },
    {
     "data": {
      "image/png": "[encoded data removed]",
      "text/plain": [
       "<Figure size 432x288 with 1 Axes>"
      ]
     },
     "metadata": {
      "needs_background": "light"
     },
     "output_type": "display_data"
    }
   ],
   "source": [
    "# Histograma de la variable vivienda\n",
    "plt.hist(hipotecas['vivienda'])\n",
    "plt.title('Importe de la vivienda')"
   ]
  },
  {
   "cell_type": "markdown",
   "metadata": {},
   "source": [
    "Concluimos que todos los registros y campos nos pueden ser de utilidad."
   ]
  },
  {
   "cell_type": "markdown",
   "metadata": {},
   "source": [
    "### 3. Limpieza de los datos\n",
    "\n",
    "Una vez hecho un primer análisis, se trata de \"limpiar\" el dataset y adaptarlo a nuestras necesidades (en este caso, predecir si se concederá la hipoteca o no)."
   ]
  },
  {
   "cell_type": "markdown",
   "metadata": {},
   "source": [
    "#### 3.1. ¿Los datos contienen ceros o elementos vacíos? ¿Cómo gestionarías cada uno de estos casos??\n"
   ]
  },
  {
   "cell_type": "code",
   "execution_count": 13,
   "metadata": {},
   "outputs": [
    {
     "data": {
      "text/plain": [
       "False"
      ]
     },
     "execution_count": 13,
     "metadata": {},
     "output_type": "execute_result"
    }
   ],
   "source": [
    "# Si la siguiente sentencia devuelve False, no hay valores nulos\n",
    "hipotecas.isnull().values.any()"
   ]
  },
  {
   "cell_type": "code",
   "execution_count": 14,
   "metadata": {},
   "outputs": [
    {
     "data": {
      "text/html": [
       "<div>\n",
       "<style scoped>\n",
       "    .dataframe tbody tr th:only-of-type {\n",
       "        vertical-align: middle;\n",
       "    }\n",
       "\n",
       "    .dataframe tbody tr th {\n",
       "        vertical-align: top;\n",
       "    }\n",
       "\n",
       "    .dataframe thead th {\n",
       "        text-align: right;\n",
       "    }\n",
       "</style>\n",
       "<table border=\"1\" class=\"dataframe\">\n",
       "  <thead>\n",
       "    <tr style=\"text-align: right;\">\n",
       "      <th></th>\n",
       "      <th>ingresos</th>\n",
       "      <th>gastos_comunes</th>\n",
       "      <th>pago_coche</th>\n",
       "      <th>gastos_otros</th>\n",
       "      <th>ahorros</th>\n",
       "      <th>vivienda</th>\n",
       "      <th>estado_civil</th>\n",
       "      <th>hijos</th>\n",
       "      <th>trabajo</th>\n",
       "      <th>hipoteca</th>\n",
       "    </tr>\n",
       "  </thead>\n",
       "  <tbody>\n",
       "    <tr>\n",
       "      <th>count</th>\n",
       "      <td>202.000000</td>\n",
       "      <td>202.000000</td>\n",
       "      <td>202.000000</td>\n",
       "      <td>202.000000</td>\n",
       "      <td>202.000000</td>\n",
       "      <td>202.000000</td>\n",
       "      <td>202.000000</td>\n",
       "      <td>202.000000</td>\n",
       "      <td>202.000000</td>\n",
       "      <td>202.000000</td>\n",
       "    </tr>\n",
       "    <tr>\n",
       "      <th>mean</th>\n",
       "      <td>4958.995050</td>\n",
       "      <td>971.584158</td>\n",
       "      <td>211.742574</td>\n",
       "      <td>515.425743</td>\n",
       "      <td>38749.668317</td>\n",
       "      <td>373349.638614</td>\n",
       "      <td>1.024752</td>\n",
       "      <td>1.232673</td>\n",
       "      <td>4.490099</td>\n",
       "      <td>0.331683</td>\n",
       "    </tr>\n",
       "    <tr>\n",
       "      <th>std</th>\n",
       "      <td>1682.862556</td>\n",
       "      <td>272.106351</td>\n",
       "      <td>124.940754</td>\n",
       "      <td>168.103075</td>\n",
       "      <td>17365.231870</td>\n",
       "      <td>136371.525622</td>\n",
       "      <td>0.837184</td>\n",
       "      <td>1.367833</td>\n",
       "      <td>2.535794</td>\n",
       "      <td>0.471988</td>\n",
       "    </tr>\n",
       "    <tr>\n",
       "      <th>min</th>\n",
       "      <td>2008.000000</td>\n",
       "      <td>384.000000</td>\n",
       "      <td>0.000000</td>\n",
       "      <td>201.000000</td>\n",
       "      <td>10319.000000</td>\n",
       "      <td>176553.000000</td>\n",
       "      <td>0.000000</td>\n",
       "      <td>0.000000</td>\n",
       "      <td>0.000000</td>\n",
       "      <td>0.000000</td>\n",
       "    </tr>\n",
       "    <tr>\n",
       "      <th>25%</th>\n",
       "      <td>3513.750000</td>\n",
       "      <td>766.750000</td>\n",
       "      <td>99.000000</td>\n",
       "      <td>383.250000</td>\n",
       "      <td>24964.250000</td>\n",
       "      <td>274810.000000</td>\n",
       "      <td>0.000000</td>\n",
       "      <td>0.000000</td>\n",
       "      <td>2.000000</td>\n",
       "      <td>0.000000</td>\n",
       "    </tr>\n",
       "    <tr>\n",
       "      <th>50%</th>\n",
       "      <td>4947.500000</td>\n",
       "      <td>968.000000</td>\n",
       "      <td>208.500000</td>\n",
       "      <td>522.500000</td>\n",
       "      <td>38523.000000</td>\n",
       "      <td>340783.500000</td>\n",
       "      <td>1.000000</td>\n",
       "      <td>1.000000</td>\n",
       "      <td>5.000000</td>\n",
       "      <td>0.000000</td>\n",
       "    </tr>\n",
       "    <tr>\n",
       "      <th>75%</th>\n",
       "      <td>6374.500000</td>\n",
       "      <td>1165.250000</td>\n",
       "      <td>318.750000</td>\n",
       "      <td>656.750000</td>\n",
       "      <td>52150.750000</td>\n",
       "      <td>444482.000000</td>\n",
       "      <td>2.000000</td>\n",
       "      <td>2.000000</td>\n",
       "      <td>7.000000</td>\n",
       "      <td>1.000000</td>\n",
       "    </tr>\n",
       "    <tr>\n",
       "      <th>max</th>\n",
       "      <td>7984.000000</td>\n",
       "      <td>1585.000000</td>\n",
       "      <td>448.000000</td>\n",
       "      <td>828.000000</td>\n",
       "      <td>69934.000000</td>\n",
       "      <td>669540.000000</td>\n",
       "      <td>2.000000</td>\n",
       "      <td>4.000000</td>\n",
       "      <td>8.000000</td>\n",
       "      <td>1.000000</td>\n",
       "    </tr>\n",
       "  </tbody>\n",
       "</table>\n",
       "</div>"
      ],
      "text/plain": [
       "          ingresos  gastos_comunes  pago_coche  gastos_otros       ahorros  \\\n",
       "count   202.000000      202.000000  202.000000    202.000000    202.000000   \n",
       "mean   4958.995050      971.584158  211.742574    515.425743  38749.668317   \n",
       "std    1682.862556      272.106351  124.940754    168.103075  17365.231870   \n",
       "min    2008.000000      384.000000    0.000000    201.000000  10319.000000   \n",
       "25%    3513.750000      766.750000   99.000000    383.250000  24964.250000   \n",
       "50%    4947.500000      968.000000  208.500000    522.500000  38523.000000   \n",
       "75%    6374.500000     1165.250000  318.750000    656.750000  52150.750000   \n",
       "max    7984.000000     1585.000000  448.000000    828.000000  69934.000000   \n",
       "\n",
       "            vivienda  estado_civil       hijos     trabajo    hipoteca  \n",
       "count     202.000000    202.000000  202.000000  202.000000  202.000000  \n",
       "mean   373349.638614      1.024752    1.232673    4.490099    0.331683  \n",
       "std    136371.525622      0.837184    1.367833    2.535794    0.471988  \n",
       "min    176553.000000      0.000000    0.000000    0.000000    0.000000  \n",
       "25%    274810.000000      0.000000    0.000000    2.000000    0.000000  \n",
       "50%    340783.500000      1.000000    1.000000    5.000000    0.000000  \n",
       "75%    444482.000000      2.000000    2.000000    7.000000    1.000000  \n",
       "max    669540.000000      2.000000    4.000000    8.000000    1.000000  "
      ]
     },
     "execution_count": 14,
     "metadata": {},
     "output_type": "execute_result"
    }
   ],
   "source": [
    "# Primer análisis estadístico de los datos\n",
    "hipotecas.describe()"
   ]
  },
  {
   "cell_type": "markdown",
   "metadata": {},
   "source": [
    "Si hubiese habido elementos vacíos en los campos categóricos, si hubiesen sido pocos lo más sensato hubiese sido eliminar esos registros por falta de datos.\n",
    "\n",
    "En cuánto a \"0\" en los campos numéricos, encontramos que hay en los campos \"pago coche\" e \"hijos\". En este caso, tiene sentido que haya ceros, pues se puede deber a que el cliente no tiene coche o no tiene hijos en cada uno de los casos. Con lo cuál, estos valores quedarán como \"0\". Si por el contrario hubiese habido algún \"0\" en el valor de la vivienda, esto se trataría claramente de un erros y se podría, o bien anular el registro, o bien hacer un cálculo de la media de este campo y asignarlo."
   ]
  },
  {
   "cell_type": "markdown",
   "metadata": {},
   "source": [
    "#### 3.2. Identificación y tratamiento de valores extremos\n"
   ]
  },
  {
   "cell_type": "markdown",
   "metadata": {},
   "source": [
    "Podemos utilizar gráficos de bigotes en las variables numéricas para identificar valores extremos.\n"
   ]
  },
  {
   "cell_type": "code",
   "execution_count": 15,
   "metadata": {},
   "outputs": [
    {
     "data": {
      "image/png": "[encoded data removed]",
      "text/plain": [
       "<Figure size 432x288 with 1 Axes>"
      ]
     },
     "metadata": {
      "needs_background": "light"
     },
     "output_type": "display_data"
    }
   ],
   "source": [
    "# Con un diamante verde se marcarán los outliers\n",
    "green_diamond = dict(markerfacecolor='g', marker='D')\n",
    "fig, ax = plt.subplots()\n",
    "ax.set_title('Boxplot ingresos')\n",
    "ax.boxplot(hipotecas['ingresos'], flierprops=green_diamond, labels=[\"ingresos\"]);"
   ]
  },
  {
   "cell_type": "code",
   "execution_count": 16,
   "metadata": {},
   "outputs": [
    {
     "data": {
      "image/png": "[encoded data removed]",
      "text/plain": [
       "<Figure size 432x288 with 1 Axes>"
      ]
     },
     "metadata": {
      "needs_background": "light"
     },
     "output_type": "display_data"
    }
   ],
   "source": [
    "# gastos_comunes\n",
    "fig, ax = plt.subplots()\n",
    "ax.set_title('Boxplot gastos comunes')\n",
    "ax.boxplot(hipotecas['gastos_comunes'], flierprops=green_diamond, labels=[\"gastos comunes\"]);"
   ]
  },
  {
   "cell_type": "code",
   "execution_count": 17,
   "metadata": {},
   "outputs": [
    {
     "data": {
      "image/png": "[encoded data removed]",
      "text/plain": [
       "<Figure size 432x288 with 1 Axes>"
      ]
     },
     "metadata": {
      "needs_background": "light"
     },
     "output_type": "display_data"
    }
   ],
   "source": [
    "# gastos_comunes\n",
    "fig, ax = plt.subplots()\n",
    "ax.set_title('Boxplot pago coche')\n",
    "ax.boxplot(hipotecas['pago_coche'], flierprops=green_diamond, labels=[\"gastos coche\"]);"
   ]
  },
  {
   "cell_type": "code",
   "execution_count": 18,
   "metadata": {},
   "outputs": [
    {
     "data": {
      "image/png": "[encoded data removed]",
      "text/plain": [
       "<Figure size 432x288 with 1 Axes>"
      ]
     },
     "metadata": {
      "needs_background": "light"
     },
     "output_type": "display_data"
    }
   ],
   "source": [
    "# gastos_otros\n",
    "fig, ax = plt.subplots()\n",
    "ax.set_title('Boxplot otros gastos')\n",
    "ax.boxplot(hipotecas['gastos_otros'], flierprops=green_diamond, labels=[\"otros gastos\"]);"
   ]
  },
  {
   "cell_type": "code",
   "execution_count": 19,
   "metadata": {},
   "outputs": [
    {
     "data": {
      "image/png": "[encoded data removed]",
      "text/plain": [
       "<Figure size 432x288 with 1 Axes>"
      ]
     },
     "metadata": {
      "needs_background": "light"
     },
     "output_type": "display_data"
    }
   ],
   "source": [
    "# ahorros\n",
    "fig, ax = plt.subplots()\n",
    "ax.set_title('Boxplot ahorros')\n",
    "ax.boxplot(hipotecas['ahorros'], flierprops=green_diamond, labels=[\"ahorros\"]);"
   ]
  },
  {
   "cell_type": "code",
   "execution_count": 20,
   "metadata": {},
   "outputs": [
    {
     "data": {
      "image/png": "[encoded data removed]",
      "text/plain": [
       "<Figure size 432x288 with 1 Axes>"
      ]
     },
     "metadata": {
      "needs_background": "light"
     },
     "output_type": "display_data"
    }
   ],
   "source": [
    "# vivienda\n",
    "fig, ax = plt.subplots()\n",
    "ax.set_title('Boxplot vivienda')\n",
    "ax.boxplot(hipotecas['vivienda'], flierprops=green_diamond, labels=[\"Precio vivienda\"]);"
   ]
  },
  {
   "cell_type": "code",
   "execution_count": 21,
   "metadata": {
    "scrolled": true
   },
   "outputs": [
    {
     "data": {
      "image/png": "[encoded data removed]",
      "text/plain": [
       "<Figure size 432x288 with 1 Axes>"
      ]
     },
     "metadata": {
      "needs_background": "light"
     },
     "output_type": "display_data"
    }
   ],
   "source": [
    "# hijos\n",
    "fig, ax = plt.subplots()\n",
    "ax.set_title('Boxplot hijos')\n",
    "ax.boxplot(hipotecas['hijos'], flierprops=green_diamond, labels=[\"Nº de hijos\"]);"
   ]
  },
  {
   "cell_type": "markdown",
   "metadata": {},
   "source": [
    "Observamos que no hay ningún Outlier.\n",
    "\n",
    "Por terminar con este punto de limpieza de datos, vamos a realizar una adaptación de nuestro dataset para agrupar todos los datos de gastos en una única columna."
   ]
  },
  {
   "cell_type": "code",
   "execution_count": 22,
   "metadata": {},
   "outputs": [
    {
     "data": {
      "text/html": [
       "<div>\n",
       "<style scoped>\n",
       "    .dataframe tbody tr th:only-of-type {\n",
       "        vertical-align: middle;\n",
       "    }\n",
       "\n",
       "    .dataframe tbody tr th {\n",
       "        vertical-align: top;\n",
       "    }\n",
       "\n",
       "    .dataframe thead th {\n",
       "        text-align: right;\n",
       "    }\n",
       "</style>\n",
       "<table border=\"1\" class=\"dataframe\">\n",
       "  <thead>\n",
       "    <tr style=\"text-align: right;\">\n",
       "      <th></th>\n",
       "      <th>ingresos</th>\n",
       "      <th>gastos</th>\n",
       "      <th>ahorros</th>\n",
       "      <th>vivienda</th>\n",
       "      <th>estado_civil</th>\n",
       "      <th>hijos</th>\n",
       "      <th>trabajo</th>\n",
       "      <th>hipoteca</th>\n",
       "    </tr>\n",
       "  </thead>\n",
       "  <tbody>\n",
       "    <tr>\n",
       "      <th>0</th>\n",
       "      <td>6000</td>\n",
       "      <td>1600</td>\n",
       "      <td>50000</td>\n",
       "      <td>400000</td>\n",
       "      <td>0</td>\n",
       "      <td>2</td>\n",
       "      <td>2</td>\n",
       "      <td>1</td>\n",
       "    </tr>\n",
       "    <tr>\n",
       "      <th>1</th>\n",
       "      <td>6745</td>\n",
       "      <td>1496</td>\n",
       "      <td>43240</td>\n",
       "      <td>636897</td>\n",
       "      <td>1</td>\n",
       "      <td>3</td>\n",
       "      <td>6</td>\n",
       "      <td>0</td>\n",
       "    </tr>\n",
       "    <tr>\n",
       "      <th>2</th>\n",
       "      <td>6455</td>\n",
       "      <td>1926</td>\n",
       "      <td>57463</td>\n",
       "      <td>321779</td>\n",
       "      <td>2</td>\n",
       "      <td>1</td>\n",
       "      <td>8</td>\n",
       "      <td>1</td>\n",
       "    </tr>\n",
       "    <tr>\n",
       "      <th>3</th>\n",
       "      <td>7098</td>\n",
       "      <td>1547</td>\n",
       "      <td>54506</td>\n",
       "      <td>660933</td>\n",
       "      <td>0</td>\n",
       "      <td>0</td>\n",
       "      <td>3</td>\n",
       "      <td>0</td>\n",
       "    </tr>\n",
       "    <tr>\n",
       "      <th>4</th>\n",
       "      <td>6167</td>\n",
       "      <td>1606</td>\n",
       "      <td>41512</td>\n",
       "      <td>348932</td>\n",
       "      <td>0</td>\n",
       "      <td>0</td>\n",
       "      <td>3</td>\n",
       "      <td>1</td>\n",
       "    </tr>\n",
       "    <tr>\n",
       "      <th>5</th>\n",
       "      <td>5692</td>\n",
       "      <td>1247</td>\n",
       "      <td>50875</td>\n",
       "      <td>360863</td>\n",
       "      <td>1</td>\n",
       "      <td>4</td>\n",
       "      <td>5</td>\n",
       "      <td>1</td>\n",
       "    </tr>\n",
       "    <tr>\n",
       "      <th>6</th>\n",
       "      <td>6830</td>\n",
       "      <td>1952</td>\n",
       "      <td>46761</td>\n",
       "      <td>429812</td>\n",
       "      <td>1</td>\n",
       "      <td>1</td>\n",
       "      <td>5</td>\n",
       "      <td>1</td>\n",
       "    </tr>\n",
       "    <tr>\n",
       "      <th>7</th>\n",
       "      <td>6470</td>\n",
       "      <td>1856</td>\n",
       "      <td>57439</td>\n",
       "      <td>606291</td>\n",
       "      <td>0</td>\n",
       "      <td>0</td>\n",
       "      <td>1</td>\n",
       "      <td>0</td>\n",
       "    </tr>\n",
       "    <tr>\n",
       "      <th>8</th>\n",
       "      <td>6251</td>\n",
       "      <td>2030</td>\n",
       "      <td>50503</td>\n",
       "      <td>291010</td>\n",
       "      <td>0</td>\n",
       "      <td>0</td>\n",
       "      <td>3</td>\n",
       "      <td>1</td>\n",
       "    </tr>\n",
       "    <tr>\n",
       "      <th>9</th>\n",
       "      <td>6987</td>\n",
       "      <td>1755</td>\n",
       "      <td>40611</td>\n",
       "      <td>324098</td>\n",
       "      <td>2</td>\n",
       "      <td>1</td>\n",
       "      <td>7</td>\n",
       "      <td>1</td>\n",
       "    </tr>\n",
       "  </tbody>\n",
       "</table>\n",
       "</div>"
      ],
      "text/plain": [
       "   ingresos  gastos  ahorros  vivienda  estado_civil  hijos  trabajo  hipoteca\n",
       "0      6000    1600    50000    400000             0      2        2         1\n",
       "1      6745    1496    43240    636897             1      3        6         0\n",
       "2      6455    1926    57463    321779             2      1        8         1\n",
       "3      7098    1547    54506    660933             0      0        3         0\n",
       "4      6167    1606    41512    348932             0      0        3         1\n",
       "5      5692    1247    50875    360863             1      4        5         1\n",
       "6      6830    1952    46761    429812             1      1        5         1\n",
       "7      6470    1856    57439    606291             0      0        1         0\n",
       "8      6251    2030    50503    291010             0      0        3         1\n",
       "9      6987    1755    40611    324098             2      1        7         1"
      ]
     },
     "execution_count": 22,
     "metadata": {},
     "output_type": "execute_result"
    }
   ],
   "source": [
    "# Agregamos la nueva columna gastos como suma de las otras 3 columnas\n",
    "hipotecas.insert(1,\"gastos\", hipotecas['pago_coche']+hipotecas['gastos_comunes']+hipotecas['gastos_otros'])\n",
    "\n",
    "# Eliminamos las 3 columnas, pues la información de estas, ya está agrupada en una sola\n",
    "hipotecas = hipotecas.drop(['pago_coche', 'gastos_comunes', 'gastos_otros'], axis=1)\n",
    "\n",
    "# Mostramos el resultado\n",
    "hipotecas.head(10)"
   ]
  },
  {
   "cell_type": "markdown",
   "metadata": {},
   "source": [
    "Finalmente, sólo nos queda pasar las variables categóricas a numéricas. Observad que a pesar de que todas las variables tengan números, esto no quiere decir que sean numéricas. Por ejemplo, la variable `estado_civil` tiene los valores 0-1-2, que sería lo mismo que si tuviera los valores soltero-casado-divorciado. Hay otras variables donde esto no ocurre, por ejemplo el número de hijos, que a pesar de ser categórica sí que son números, ya que es ordinal. La manera de diferenciarlo es, en el caso del número de hijos, 1 hijo es menos que 2 hijos, mientras que con el estado civil no hay un orden.\n",
    "\n",
    "Una manera de pasar las variables categóricas en numéricas es aplicando _one-hot encoding_. Por ejemplo, en el caso de la variable `estado_civil`, lo que se haría sería crear tres columnas nuevas: `soltero`, `casado` y `divorciado`. Estas columnas tendrían los valores 0-1, por ejemplo, en el caso de la columna `soltero` tendría el valor 1 cuando `estado_civil = soltero`, y cero en otro caso."
   ]
  },
  {
   "cell_type": "code",
   "execution_count": 23,
   "metadata": {},
   "outputs": [
    {
     "data": {
      "text/html": [
       "<div>\n",
       "<style scoped>\n",
       "    .dataframe tbody tr th:only-of-type {\n",
       "        vertical-align: middle;\n",
       "    }\n",
       "\n",
       "    .dataframe tbody tr th {\n",
       "        vertical-align: top;\n",
       "    }\n",
       "\n",
       "    .dataframe thead th {\n",
       "        text-align: right;\n",
       "    }\n",
       "</style>\n",
       "<table border=\"1\" class=\"dataframe\">\n",
       "  <thead>\n",
       "    <tr style=\"text-align: right;\">\n",
       "      <th></th>\n",
       "      <th>ingresos</th>\n",
       "      <th>gastos</th>\n",
       "      <th>ahorros</th>\n",
       "      <th>vivienda</th>\n",
       "      <th>soltero</th>\n",
       "      <th>casado</th>\n",
       "      <th>divorciado</th>\n",
       "      <th>hijos</th>\n",
       "      <th>t0</th>\n",
       "      <th>t1</th>\n",
       "      <th>t2</th>\n",
       "      <th>t3</th>\n",
       "      <th>t4</th>\n",
       "      <th>t5</th>\n",
       "      <th>t6</th>\n",
       "      <th>t7</th>\n",
       "      <th>t8</th>\n",
       "      <th>hipoteca</th>\n",
       "    </tr>\n",
       "  </thead>\n",
       "  <tbody>\n",
       "    <tr>\n",
       "      <th>0</th>\n",
       "      <td>6000</td>\n",
       "      <td>1600</td>\n",
       "      <td>50000</td>\n",
       "      <td>400000</td>\n",
       "      <td>1</td>\n",
       "      <td>0</td>\n",
       "      <td>0</td>\n",
       "      <td>2</td>\n",
       "      <td>0</td>\n",
       "      <td>0</td>\n",
       "      <td>1</td>\n",
       "      <td>0</td>\n",
       "      <td>0</td>\n",
       "      <td>0</td>\n",
       "      <td>0</td>\n",
       "      <td>0</td>\n",
       "      <td>0</td>\n",
       "      <td>1</td>\n",
       "    </tr>\n",
       "    <tr>\n",
       "      <th>1</th>\n",
       "      <td>6745</td>\n",
       "      <td>1496</td>\n",
       "      <td>43240</td>\n",
       "      <td>636897</td>\n",
       "      <td>0</td>\n",
       "      <td>1</td>\n",
       "      <td>0</td>\n",
       "      <td>3</td>\n",
       "      <td>0</td>\n",
       "      <td>0</td>\n",
       "      <td>0</td>\n",
       "      <td>0</td>\n",
       "      <td>0</td>\n",
       "      <td>0</td>\n",
       "      <td>1</td>\n",
       "      <td>0</td>\n",
       "      <td>0</td>\n",
       "      <td>0</td>\n",
       "    </tr>\n",
       "    <tr>\n",
       "      <th>2</th>\n",
       "      <td>6455</td>\n",
       "      <td>1926</td>\n",
       "      <td>57463</td>\n",
       "      <td>321779</td>\n",
       "      <td>0</td>\n",
       "      <td>0</td>\n",
       "      <td>1</td>\n",
       "      <td>1</td>\n",
       "      <td>0</td>\n",
       "      <td>0</td>\n",
       "      <td>0</td>\n",
       "      <td>0</td>\n",
       "      <td>0</td>\n",
       "      <td>0</td>\n",
       "      <td>0</td>\n",
       "      <td>0</td>\n",
       "      <td>1</td>\n",
       "      <td>1</td>\n",
       "    </tr>\n",
       "    <tr>\n",
       "      <th>3</th>\n",
       "      <td>7098</td>\n",
       "      <td>1547</td>\n",
       "      <td>54506</td>\n",
       "      <td>660933</td>\n",
       "      <td>1</td>\n",
       "      <td>0</td>\n",
       "      <td>0</td>\n",
       "      <td>0</td>\n",
       "      <td>0</td>\n",
       "      <td>0</td>\n",
       "      <td>0</td>\n",
       "      <td>1</td>\n",
       "      <td>0</td>\n",
       "      <td>0</td>\n",
       "      <td>0</td>\n",
       "      <td>0</td>\n",
       "      <td>0</td>\n",
       "      <td>0</td>\n",
       "    </tr>\n",
       "    <tr>\n",
       "      <th>4</th>\n",
       "      <td>6167</td>\n",
       "      <td>1606</td>\n",
       "      <td>41512</td>\n",
       "      <td>348932</td>\n",
       "      <td>1</td>\n",
       "      <td>0</td>\n",
       "      <td>0</td>\n",
       "      <td>0</td>\n",
       "      <td>0</td>\n",
       "      <td>0</td>\n",
       "      <td>0</td>\n",
       "      <td>1</td>\n",
       "      <td>0</td>\n",
       "      <td>0</td>\n",
       "      <td>0</td>\n",
       "      <td>0</td>\n",
       "      <td>0</td>\n",
       "      <td>1</td>\n",
       "    </tr>\n",
       "  </tbody>\n",
       "</table>\n",
       "</div>"
      ],
      "text/plain": [
       "   ingresos  gastos  ahorros  vivienda  soltero  casado  divorciado  hijos  \\\n",
       "0      6000    1600    50000    400000        1       0           0      2   \n",
       "1      6745    1496    43240    636897        0       1           0      3   \n",
       "2      6455    1926    57463    321779        0       0           1      1   \n",
       "3      7098    1547    54506    660933        1       0           0      0   \n",
       "4      6167    1606    41512    348932        1       0           0      0   \n",
       "\n",
       "   t0  t1  t2  t3  t4  t5  t6  t7  t8  hipoteca  \n",
       "0   0   0   1   0   0   0   0   0   0         1  \n",
       "1   0   0   0   0   0   0   1   0   0         0  \n",
       "2   0   0   0   0   0   0   0   0   1         1  \n",
       "3   0   0   0   1   0   0   0   0   0         0  \n",
       "4   0   0   0   1   0   0   0   0   0         1  "
      ]
     },
     "execution_count": 23,
     "metadata": {},
     "output_type": "execute_result"
    }
   ],
   "source": [
    "# Creo dataFrame auxiliar para disgregar las columnas categóricas mediante el método get_dummies\n",
    "df_2 = pd.get_dummies(hipotecas, columns=['estado_civil', 'trabajo'], drop_first=False)\n",
    "\n",
    "# Integro las nuevas columnas y reordeno\n",
    "hipotecas= pd.DataFrame(df_2.values, columns = ['ingresos', 'gastos', 'ahorros', 'vivienda', 'hijos', 'hipoteca', 'soltero', 'casado', 'divorciado', 't0', 't1','t2', 't3', 't4','t5','t6','t7','t8'])\n",
    "hipotecas = hipotecas[['ingresos', 'gastos', 'ahorros', 'vivienda','soltero', 'casado', 'divorciado', 'hijos','t0', 't1','t2', 't3', 't4','t5','t6','t7','t8', 'hipoteca']]\n",
    "\n",
    "# Muestro el resultado\n",
    "hipotecas.head()"
   ]
  },
  {
   "cell_type": "markdown",
   "metadata": {},
   "source": [
    "El siguiente paso sería ver la correlación entre todas las _features_ numéricas. Esto se hace para asegurar que no hay dos variables muy relacionadas entre sí, ya que en tal caso se debería seleccionar una de las dos o combinarlas en una nueva."
   ]
  },
  {
   "cell_type": "markdown",
   "metadata": {},
   "source": [
    "### 4. Análisis de los datos"
   ]
  },
  {
   "cell_type": "markdown",
   "metadata": {},
   "source": [
    "#### 4.1.  Selección de los grupos de datos que se quieren analizar/comparar (planificación de los análisis a aplicar).\n",
    "\n",
    "Por un lado, consideramos una buena estrategia comprobar las correlaciones entre las variables numéricas.\n",
    "\n",
    "Por otro lado, es interesante comparar cada una de las variables con el campo \"hipoteca\", el cuál indica en base al resto de datos del registro si al clente se le puede conceder la hipoteca o no.\n",
    "\n",
    "También se pueden realizar varios test comparando a los clientes que se les concede la hipoteca con los que no se les concede."
   ]
  },
  {
   "cell_type": "markdown",
   "metadata": {},
   "source": [
    "#### 4.2.  Comprobación de la normalidad y homogeneidad de la varianza."
   ]
  },
  {
   "cell_type": "markdown",
   "metadata": {},
   "source": [
    "El supuesto de homogeneidad de varianzas, también conocido como supuesto de homocedasticidad, considera que la varianza es constante (no varía) en los diferentes niveles de un factor, es decir, entre diferentes grupos. En los modelos de regresión lineal, esta condición de homocedasticidad suele hacer referencia a los errores (residuos) del modelo, es decir, que la varianza de los errores es constante en todas las predicciones. Cuando la condición de homocedasticidad no se cumple, se utiliza el término heterocedasticidad.\n",
    "\n",
    "Existen diferentes test que permiten evaluar si las observaciones proceden de poblaciones con la misma varianza. Todos ellos consideran como hipótesis nula que la varianza es igual entre los grupos y como hipótesis alternativa que no lo es. La diferencia entre ellos es el estadístico de centralidad que utilizan:\n",
    "\n",
    "    *Los test que utilizan la media de la varianza son los que mayor poder estadístico consiguen cuando los datos siguen distribuciones normales.\n",
    "\n",
    "    *Los test que utilizan la mediana de la varianza consiguen mejores resultados cuando los datos siguen distribuciones asimétricas o se alejan de la normalidad.\n",
    "\n",
    "Por lo general, si no se puede alcanzar cierta seguridad de que las poblaciones que se comparan son de tipo normal, es recomendable recurrir a test que comparen la mediana de la varianza.\n",
    "\n",
    "En nuestro caso, los dos grupos que srán sometidos a análisis serán el conjunto de clientes a los que se les concede hipotecas y el conjunto de clientes a los que no se les concede hipoteca. Concretamente, se estudiará para la variable \"ingresos\", la cuál, cómo se puede observar en el histograma extraído anteriormente para esta variable, no sigue una distribucion normal. Con lo cuál se usará un test que utilize la mediana de la varianza, concretamente, el test de Levene. \n",
    "\n",
    "Fuente: https://www.cienciadedatos.net/documentos/pystats07-test-homocedasticidad-heterocedasticidad-python.html"
   ]
  },
  {
   "cell_type": "code",
   "execution_count": 24,
   "metadata": {},
   "outputs": [
    {
     "data": {
      "text/plain": [
       "LeveneResult(statistic=14.436323831510473, pvalue=0.00019233822549093488)"
      ]
     },
     "execution_count": 24,
     "metadata": {},
     "output_type": "execute_result"
    }
   ],
   "source": [
    "# Extraemos los datos que nos interesan separados por grupos (Ingresos de SiHipoteca y NoHipoteca).\n",
    "hipotecas['hipoteca'] = hipotecas['hipoteca'].astype(str)\n",
    "SiHipoteca = hipotecas.loc[hipotecas.hipoteca == '1', 'ingresos']\n",
    "NoHipoteca = hipotecas.loc[hipotecas.hipoteca == '0', 'ingresos']\n",
    "\n",
    "levene_test = stats.levene(SiHipoteca, NoHipoteca, center='median')\n",
    "levene_test"
   ]
  },
  {
   "cell_type": "markdown",
   "metadata": {},
   "source": [
    "Observamos que no se cumple homocedasticidad, en cuánto a la variable \"ingresos\" se refiere, para los grupos de hipotecados y no hipotecados, pues el p-value es muy bajo (nos marcamos un nivel confianza en el test del 5%)."
   ]
  },
  {
   "cell_type": "markdown",
   "metadata": {},
   "source": [
    "#### 4.3.  Aplicación de pruebas estadísticas para comparar los grupos de datos. En función de los datos y el objetivo del estudio, aplicar pruebas de contraste de hipótesis, correlaciones, regresiones, etc. Aplicar al menos tres métodos de análisis diferentes."
   ]
  },
  {
   "cell_type": "markdown",
   "metadata": {},
   "source": [
    "##### Test 1\n",
    "\n",
    "Mostraremos la correlación entre todas las _features_ numéricas."
   ]
  },
  {
   "cell_type": "code",
   "execution_count": 25,
   "metadata": {},
   "outputs": [
    {
     "data": {
      "image/png": "[encoded data removed]",
      "text/plain": [
       "<Figure size 432x288 with 2 Axes>"
      ]
     },
     "metadata": {
      "needs_background": "light"
     },
     "output_type": "display_data"
    }
   ],
   "source": [
    "# Creamos la matriz de correlación\n",
    "f_numericas = hipotecas.iloc[:,:4]\n",
    "correlation_mat = f_numericas.corr()\n",
    "\n",
    "# Mostramos con heatmap las correlaciones\n",
    "sns.heatmap(correlation_mat, annot = True)\n",
    "plt.show()"
   ]
  },
  {
   "cell_type": "markdown",
   "metadata": {},
   "source": [
    "Cómo previamente habíamos eliminado las 3 columnas de gastos que ya agrupamos en una, no obtenemos ninguna correlación por encima del 71%. Este valor se da para las variables ingresos y ahorros. Tiene lógica que a mayor nivel de ingresoso, mayor es la capacidad de ahorrar del cliente y por lo tanto, más ahorros tiene."
   ]
  },
  {
   "cell_type": "markdown",
   "metadata": {},
   "source": [
    "##### Test 2\n",
    "\n",
    "Contraste de hipótesis de la variable ahorros. ¿Es la media de los ahorros de los no hioptecados igual a la media de ahorros de los hipotecados?\n",
    "\n",
    "H0: Medias de ahorros iguales"
   ]
  },
  {
   "cell_type": "code",
   "execution_count": 26,
   "metadata": {},
   "outputs": [],
   "source": [
    "hipotecas['hipoteca'] = hipotecas['hipoteca'].astype(int)"
   ]
  },
  {
   "cell_type": "code",
   "execution_count": 27,
   "metadata": {},
   "outputs": [
    {
     "data": {
      "text/html": [
       "<div>\n",
       "<style scoped>\n",
       "    .dataframe tbody tr th:only-of-type {\n",
       "        vertical-align: middle;\n",
       "    }\n",
       "\n",
       "    .dataframe tbody tr th {\n",
       "        vertical-align: top;\n",
       "    }\n",
       "\n",
       "    .dataframe thead tr th {\n",
       "        text-align: left;\n",
       "    }\n",
       "\n",
       "    .dataframe thead tr:last-of-type th {\n",
       "        text-align: right;\n",
       "    }\n",
       "</style>\n",
       "<table border=\"1\" class=\"dataframe\">\n",
       "  <thead>\n",
       "    <tr>\n",
       "      <th></th>\n",
       "      <th colspan=\"8\" halign=\"left\">ingresos</th>\n",
       "      <th colspan=\"2\" halign=\"left\">gastos</th>\n",
       "      <th>...</th>\n",
       "      <th colspan=\"2\" halign=\"left\">t7</th>\n",
       "      <th colspan=\"8\" halign=\"left\">t8</th>\n",
       "    </tr>\n",
       "    <tr>\n",
       "      <th></th>\n",
       "      <th>count</th>\n",
       "      <th>mean</th>\n",
       "      <th>std</th>\n",
       "      <th>min</th>\n",
       "      <th>25%</th>\n",
       "      <th>50%</th>\n",
       "      <th>75%</th>\n",
       "      <th>max</th>\n",
       "      <th>count</th>\n",
       "      <th>mean</th>\n",
       "      <th>...</th>\n",
       "      <th>75%</th>\n",
       "      <th>max</th>\n",
       "      <th>count</th>\n",
       "      <th>mean</th>\n",
       "      <th>std</th>\n",
       "      <th>min</th>\n",
       "      <th>25%</th>\n",
       "      <th>50%</th>\n",
       "      <th>75%</th>\n",
       "      <th>max</th>\n",
       "    </tr>\n",
       "    <tr>\n",
       "      <th>hipoteca</th>\n",
       "      <th></th>\n",
       "      <th></th>\n",
       "      <th></th>\n",
       "      <th></th>\n",
       "      <th></th>\n",
       "      <th></th>\n",
       "      <th></th>\n",
       "      <th></th>\n",
       "      <th></th>\n",
       "      <th></th>\n",
       "      <th></th>\n",
       "      <th></th>\n",
       "      <th></th>\n",
       "      <th></th>\n",
       "      <th></th>\n",
       "      <th></th>\n",
       "      <th></th>\n",
       "      <th></th>\n",
       "      <th></th>\n",
       "      <th></th>\n",
       "      <th></th>\n",
       "    </tr>\n",
       "  </thead>\n",
       "  <tbody>\n",
       "    <tr>\n",
       "      <th>No hipoteca</th>\n",
       "      <td>135.0</td>\n",
       "      <td>4406.570370</td>\n",
       "      <td>1646.043268</td>\n",
       "      <td>2008.0</td>\n",
       "      <td>3082.0</td>\n",
       "      <td>4054.0</td>\n",
       "      <td>5760.5</td>\n",
       "      <td>7831.0</td>\n",
       "      <td>135.0</td>\n",
       "      <td>1690.755556</td>\n",
       "      <td>...</td>\n",
       "      <td>0.0</td>\n",
       "      <td>1.0</td>\n",
       "      <td>135.0</td>\n",
       "      <td>0.111111</td>\n",
       "      <td>0.315440</td>\n",
       "      <td>0.0</td>\n",
       "      <td>0.0</td>\n",
       "      <td>0.0</td>\n",
       "      <td>0.0</td>\n",
       "      <td>1.0</td>\n",
       "    </tr>\n",
       "    <tr>\n",
       "      <th>Si hipoteca</th>\n",
       "      <td>67.0</td>\n",
       "      <td>6072.089552</td>\n",
       "      <td>1114.368251</td>\n",
       "      <td>3382.0</td>\n",
       "      <td>5441.5</td>\n",
       "      <td>6139.0</td>\n",
       "      <td>6946.5</td>\n",
       "      <td>7984.0</td>\n",
       "      <td>67.0</td>\n",
       "      <td>1714.865672</td>\n",
       "      <td>...</td>\n",
       "      <td>0.0</td>\n",
       "      <td>1.0</td>\n",
       "      <td>67.0</td>\n",
       "      <td>0.208955</td>\n",
       "      <td>0.409631</td>\n",
       "      <td>0.0</td>\n",
       "      <td>0.0</td>\n",
       "      <td>0.0</td>\n",
       "      <td>0.0</td>\n",
       "      <td>1.0</td>\n",
       "    </tr>\n",
       "  </tbody>\n",
       "</table>\n",
       "<p>2 rows × 136 columns</p>\n",
       "</div>"
      ],
      "text/plain": [
       "            ingresos                                                    \\\n",
       "               count         mean          std     min     25%     50%   \n",
       "hipoteca                                                                 \n",
       "No hipoteca    135.0  4406.570370  1646.043268  2008.0  3082.0  4054.0   \n",
       "Si hipoteca     67.0  6072.089552  1114.368251  3382.0  5441.5  6139.0   \n",
       "\n",
       "                            gastos               ...   t7          t8  \\\n",
       "                75%     max  count         mean  ...  75%  max  count   \n",
       "hipoteca                                         ...                    \n",
       "No hipoteca  5760.5  7831.0  135.0  1690.755556  ...  0.0  1.0  135.0   \n",
       "Si hipoteca  6946.5  7984.0   67.0  1714.865672  ...  0.0  1.0   67.0   \n",
       "\n",
       "                                                          \n",
       "                 mean       std  min  25%  50%  75%  max  \n",
       "hipoteca                                                  \n",
       "No hipoteca  0.111111  0.315440  0.0  0.0  0.0  0.0  1.0  \n",
       "Si hipoteca  0.208955  0.409631  0.0  0.0  0.0  0.0  1.0  \n",
       "\n",
       "[2 rows x 136 columns]"
      ]
     },
     "execution_count": 27,
     "metadata": {},
     "output_type": "execute_result"
    }
   ],
   "source": [
    "hipotecas['hipoteca'] = np.where(hipotecas['hipoteca'] == 1, 'Si hipoteca', 'No hipoteca')\n",
    "hipotecas.groupby(by='hipoteca').describe()"
   ]
  },
  {
   "cell_type": "code",
   "execution_count": 28,
   "metadata": {},
   "outputs": [
    {
     "name": "stdout",
     "output_type": "stream",
     "text": [
      "Diferencia de medias de ahorros observada: 12537.806633499174\n"
     ]
    }
   ],
   "source": [
    "dif_observada = (hipotecas.ahorros[hipotecas.hipoteca == 'Si hipoteca'].mean()\n",
    "                 - hipotecas.ahorros[hipotecas.hipoteca == 'No hipoteca'].mean())\n",
    "\n",
    "print(f\"Diferencia de medias de ahorros observada: {dif_observada}\")"
   ]
  },
  {
   "cell_type": "code",
   "execution_count": 31,
   "metadata": {
    "scrolled": true
   },
   "outputs": [
    {
     "data": {
      "image/png": "[encoded data removed]",
      "text/plain": [
       "<Figure size 720x252 with 2 Axes>"
      ]
     },
     "metadata": {
      "needs_background": "light"
     },
     "output_type": "display_data"
    }
   ],
   "source": [
    "# Gráficos distribución observada\n",
    "# ==============================================================================\n",
    "fig, axs = plt.subplots(nrows=1, ncols=2, figsize=(10, 3.5))\n",
    "sns.violinplot(\n",
    "    x     = hipotecas.ahorros,\n",
    "    y     = hipotecas.hipoteca,\n",
    "    color = \".8\",\n",
    "    ax    = axs[0]\n",
    ")\n",
    "sns.stripplot(\n",
    "    x     = hipotecas.ahorros,\n",
    "    y     = hipotecas.hipoteca,\n",
    "    data  = hipotecas,\n",
    "    size  = 4,\n",
    "    jitter  = 0.1,\n",
    "    palette = 'tab10',\n",
    "    ax = axs[0]\n",
    ")\n",
    "axs[0].set_title('Distribución de valores por grupo')\n",
    "axs[0].set_ylabel('hipoteca Si o No')\n",
    "axs[0].set_xlabel('ahorros');\n",
    "\n",
    "for hipoteca in hipotecas.hipoteca.unique():\n",
    "    datos_temp = hipotecas[hipotecas.hipoteca == hipoteca]['ahorros']\n",
    "    datos_temp.plot.kde(ax=axs[1], label=hipoteca)\n",
    "    axs[1].plot(datos_temp, np.full_like(datos_temp, 0), '|k', markeredgewidth=1)\n",
    "\n",
    "axs[1].set_title('Distribución de valores por grupo')\n",
    "axs[1].set_xlabel('ahorros');\n",
    "axs[1].legend()\n",
    "\n",
    "fig.tight_layout();"
   ]
  },
  {
   "cell_type": "markdown",
   "metadata": {},
   "source": [
    "Se observa claramente que el nivel de ahorros influye en la concesión de la hipoteca. A mayor nivel de ahorros, mayor probabilidad de que te concedan la hipoteca tienes.\n",
    "\n",
    "El objetivo del estudio es determinar si, la diferencia observada de 12.537,80€ unidades, está dentro de lo que cabría esperar debido únicamente al muestreo aleatorio, si no existiera diferencia real entre las poblaciones ( H0 : todas las observaciones proceden de la misma población).\n",
    "\n",
    "Si se obtuviera una nueva muestra de clientes, la diferencia promedio entre grupos sería ligeramente distinta, aunque no existiera una diferencia real entre hipotecados y no hipotecados. Por lo tanto, dar respuesta a este problema pasa por determinar cuánta diferencia se espera por el simple hecho de repetir el muestreo.\n",
    "\n",
    "Mediante bootstrapping, se generan nuevas pseudo-muestras de individuos empleando las dos muestras originales (hipotecados y no hipotecadis) combinadas. Con cada una de las pseudo-muestras, se generan dos grupos de tamaños iguales a los grupos de las muestras originales y se calcula la diferencia del estadístico, en este caso la media. Para ello, en cada iteración y antes del reparto en grupos, se genera una nueva pseudo-muestra que tiene el mismo tamaño que la muestra original pero formada por distintas observaciones."
   ]
  },
  {
   "cell_type": "code",
   "execution_count": 60,
   "metadata": {},
   "outputs": [],
   "source": [
    "def calcular_estadistico(x):\n",
    "    '''\n",
    "    Función para calcular el estadístico de interés.\n",
    "    \n",
    "    Parameters\n",
    "    ----------\n",
    "    x : numpy array\n",
    "         valores de la muestra.\n",
    "         \n",
    "    Returns\n",
    "    -------\n",
    "    estadístico: float\n",
    "        valor del estadístico.\n",
    "    '''\n",
    "    estadistico = np.mean(x)\n",
    "    \n",
    "    return(estadistico)\n",
    "\n",
    "\n",
    "def bootstraping_2_grupos(x1, x2, fun_estadistico, n_iteraciones=9999):\n",
    "    '''\n",
    "    Función para calcular la diferencia de un estadístico entre dos grupos en\n",
    "    múltiples muestras generadas mediante muestreo repetido con reposición\n",
    "    (bootstrapping).\n",
    "    \n",
    "    Parameters\n",
    "    ----------\n",
    "    x1 : numpy array\n",
    "         valores de la muestra del grupo 1.\n",
    "         \n",
    "    x2 : numpy array\n",
    "         valores de la muestra del grupo 2.\n",
    " \n",
    "    fun_estadistico : function\n",
    "        función que recibe como argumento una muestra y devuelve el valor\n",
    "        del estadístico.\n",
    "        \n",
    "    n_iteraciones : int\n",
    "        número iteraciones (default `9999`).\n",
    "        \n",
    "    Returns\n",
    "    -------\n",
    "    distribuciones: numpy array\n",
    "        diferencia entre ambos grupos en cada muestra de bootstrapping.\n",
    "    '''\n",
    "    \n",
    "    n1 = len(x1)\n",
    "    n2 = len(x2)\n",
    "    pool = np.hstack((x1, x2))\n",
    "    dist_boot = np.full(shape=n_iteraciones, fill_value=np.nan)\n",
    "    \n",
    "    for i in tqdm(range(n_iteraciones)):\n",
    "        # Se crea una nueva muestra\n",
    "        resample = np.random.choice(pool, size=n1+n2, replace=True)\n",
    "        # Se reparten las observaciones en dos grupos y se calcula el estadístico\n",
    "        estadistico_1 = fun_estadistico(resample[:n1])\n",
    "        estadistico_2 = fun_estadistico(resample[n1:])\n",
    "        # Diferencia entre estadísticos\n",
    "        dist_boot[i]  = estadistico_1 - estadistico_2\n",
    "        \n",
    "    return dist_boot"
   ]
  },
  {
   "cell_type": "code",
   "execution_count": 61,
   "metadata": {},
   "outputs": [
    {
     "name": "stderr",
     "output_type": "stream",
     "text": [
      "100%|██████████| 9999/9999 [00:00<00:00, 32550.98it/s]\n"
     ]
    }
   ],
   "source": [
    "dist_boot = bootstraping_2_grupos(\n",
    "                x1 = hipotecas.ahorros[hipotecas.hipoteca == 'Si hipoteca'],\n",
    "                x2 = hipotecas.ahorros[hipotecas.hipoteca == 'No hipoteca'],\n",
    "                fun_estadistico = calcular_estadistico,\n",
    "                n_iteraciones   = 9999\n",
    "            )"
   ]
  },
  {
   "cell_type": "markdown",
   "metadata": {},
   "source": [
    "Los datos simulados forman lo que se conoce como bootstrapping distribution y representa la variación esperada en la diferencia de medias debida únicamente al muestreo aleatorio, si ambas muestras proceden de la misma población."
   ]
  },
  {
   "cell_type": "code",
   "execution_count": 63,
   "metadata": {},
   "outputs": [
    {
     "name": "stdout",
     "output_type": "stream",
     "text": [
      "p-value sin corrección: 0.0\n",
      "p-value con corrección: 0.00010001000100010001\n"
     ]
    }
   ],
   "source": [
    "p_value = (sum(np.abs(dist_boot) > np.abs(dif_observada)))/len(dist_boot)\n",
    "p_value_correc = (sum(np.abs(dist_boot) > np.abs(dif_observada)) + 1)/len(dist_boot + 1)\n",
    "print(f\"p-value sin corrección: {p_value}\")\n",
    "print(f\"p-value con corrección: {p_value_correc}\")"
   ]
  },
  {
   "cell_type": "markdown",
   "metadata": {},
   "source": [
    "El resultado obtenido (p-value) es una evidencia en contra de la hipótesis nula de que no hay diferencia entre poblaciones."
   ]
  },
  {
   "cell_type": "markdown",
   "metadata": {},
   "source": [
    "##### Test 3 (aplicativo a resolución de problema):\n",
    "\n",
    "Entrenamiento de modelo con Random Forest Classifier para futuras predicciones.\n",
    "\n",
    "Ahora que ya tenemos el dataset limpio y hemos hecho un análisis de las diferentes variables, podemos proceder a entrenar un modelo para predecir si se concede una hipoteca o no.\n",
    "\n",
    "Para empezar, separamos el dataset entre train y test."
   ]
  },
  {
   "cell_type": "code",
   "execution_count": 69,
   "metadata": {},
   "outputs": [],
   "source": [
    "X_train, X_test = train_test_split(hipotecas.iloc[:,0:17], test_size = 0.20, random_state = 24)\n",
    "y_train, y_test = train_test_split(hipotecas['hipoteca'], test_size = 0.20, random_state = 24)"
   ]
  },
  {
   "cell_type": "markdown",
   "metadata": {},
   "source": [
    "Vamos a optimizar el modelo mediante la optimización de los hiperparámetros para obtener los mejores resultados posibles."
   ]
  },
  {
   "cell_type": "code",
   "execution_count": 70,
   "metadata": {},
   "outputs": [
    {
     "name": "stderr",
     "output_type": "stream",
     "text": [
      "C:\\Users\\C.CUEVAS.G\\AppData\\Local\\Continuum\\anaconda3\\lib\\site-packages\\sklearn\\model_selection\\_search.py:813: DeprecationWarning: The default of the `iid` parameter will change from True to False in version 0.22 and will be removed in 0.24. This will change numeric results when test-set sizes are unequal.\n",
      "  DeprecationWarning)\n"
     ]
    },
    {
     "name": "stdout",
     "output_type": "stream",
     "text": [
      "GridSearchCV(cv=4, error_score='raise-deprecating',\n",
      "             estimator=RandomForestClassifier(bootstrap=True, class_weight=None,\n",
      "                                              criterion='gini', max_depth=None,\n",
      "                                              max_features='auto',\n",
      "                                              max_leaf_nodes=None,\n",
      "                                              min_impurity_decrease=0.0,\n",
      "                                              min_impurity_split=None,\n",
      "                                              min_samples_leaf=1,\n",
      "                                              min_samples_split=2,\n",
      "                                              min_weight_fraction_leaf=0.0,\n",
      "                                              n_estimators='warn', n_jobs=None,\n",
      "                                              oob_score=False,\n",
      "                                              random_state=None, verbose=0,\n",
      "                                              warm_start=False),\n",
      "             iid='warn', n_jobs=None,\n",
      "             param_grid={'max_depth': [6, 7, 8, 9, 10, 11, 12, 13],\n",
      "                         'n_estimators': [50, 100, 150, 200, 300]},\n",
      "             pre_dispatch='2*n_jobs', refit=True, return_train_score=False,\n",
      "             scoring=None, verbose=0)\n"
     ]
    }
   ],
   "source": [
    "# Creamos el vector de hiperparámetros\n",
    "param_grid = {'max_depth': [6, 7, 8, 9, 10, 11, 12, 13], 'n_estimators': [ 50, 100, 150, 200, 300]}\n",
    "\n",
    "# Utilizamos el método GridSearchCV para buscar los mejores hiperparámetros\n",
    "grid = GridSearchCV(RandomForestClassifier(), param_grid, cv=4)\n",
    "grid.fit(X_train, y_train)\n",
    "print(grid)"
   ]
  },
  {
   "cell_type": "code",
   "execution_count": 71,
   "metadata": {
    "scrolled": true
   },
   "outputs": [
    {
     "data": {
      "text/html": [
       "<div>\n",
       "<style scoped>\n",
       "    .dataframe tbody tr th:only-of-type {\n",
       "        vertical-align: middle;\n",
       "    }\n",
       "\n",
       "    .dataframe tbody tr th {\n",
       "        vertical-align: top;\n",
       "    }\n",
       "\n",
       "    .dataframe thead th {\n",
       "        text-align: right;\n",
       "    }\n",
       "</style>\n",
       "<table border=\"1\" class=\"dataframe\">\n",
       "  <thead>\n",
       "    <tr style=\"text-align: right;\">\n",
       "      <th></th>\n",
       "      <th>param_max_depth</th>\n",
       "      <th>param_n_estimators</th>\n",
       "      <th>mean_test_score</th>\n",
       "      <th>std_test_score</th>\n",
       "    </tr>\n",
       "  </thead>\n",
       "  <tbody>\n",
       "    <tr>\n",
       "      <th>28</th>\n",
       "      <td>11</td>\n",
       "      <td>200</td>\n",
       "      <td>0.894410</td>\n",
       "      <td>0.061315</td>\n",
       "    </tr>\n",
       "    <tr>\n",
       "      <th>13</th>\n",
       "      <td>8</td>\n",
       "      <td>200</td>\n",
       "      <td>0.888199</td>\n",
       "      <td>0.053514</td>\n",
       "    </tr>\n",
       "    <tr>\n",
       "      <th>14</th>\n",
       "      <td>8</td>\n",
       "      <td>300</td>\n",
       "      <td>0.888199</td>\n",
       "      <td>0.069269</td>\n",
       "    </tr>\n",
       "    <tr>\n",
       "      <th>37</th>\n",
       "      <td>13</td>\n",
       "      <td>150</td>\n",
       "      <td>0.888199</td>\n",
       "      <td>0.053514</td>\n",
       "    </tr>\n",
       "    <tr>\n",
       "      <th>29</th>\n",
       "      <td>11</td>\n",
       "      <td>300</td>\n",
       "      <td>0.888199</td>\n",
       "      <td>0.053514</td>\n",
       "    </tr>\n",
       "    <tr>\n",
       "      <th>17</th>\n",
       "      <td>9</td>\n",
       "      <td>150</td>\n",
       "      <td>0.888199</td>\n",
       "      <td>0.053514</td>\n",
       "    </tr>\n",
       "    <tr>\n",
       "      <th>35</th>\n",
       "      <td>13</td>\n",
       "      <td>50</td>\n",
       "      <td>0.888199</td>\n",
       "      <td>0.039380</td>\n",
       "    </tr>\n",
       "    <tr>\n",
       "      <th>10</th>\n",
       "      <td>8</td>\n",
       "      <td>50</td>\n",
       "      <td>0.888199</td>\n",
       "      <td>0.029315</td>\n",
       "    </tr>\n",
       "    <tr>\n",
       "      <th>15</th>\n",
       "      <td>9</td>\n",
       "      <td>50</td>\n",
       "      <td>0.888199</td>\n",
       "      <td>0.039380</td>\n",
       "    </tr>\n",
       "    <tr>\n",
       "      <th>32</th>\n",
       "      <td>12</td>\n",
       "      <td>150</td>\n",
       "      <td>0.888199</td>\n",
       "      <td>0.069269</td>\n",
       "    </tr>\n",
       "    <tr>\n",
       "      <th>26</th>\n",
       "      <td>11</td>\n",
       "      <td>100</td>\n",
       "      <td>0.888199</td>\n",
       "      <td>0.058904</td>\n",
       "    </tr>\n",
       "    <tr>\n",
       "      <th>21</th>\n",
       "      <td>10</td>\n",
       "      <td>100</td>\n",
       "      <td>0.881988</td>\n",
       "      <td>0.042306</td>\n",
       "    </tr>\n",
       "    <tr>\n",
       "      <th>1</th>\n",
       "      <td>6</td>\n",
       "      <td>100</td>\n",
       "      <td>0.881988</td>\n",
       "      <td>0.046838</td>\n",
       "    </tr>\n",
       "    <tr>\n",
       "      <th>31</th>\n",
       "      <td>12</td>\n",
       "      <td>100</td>\n",
       "      <td>0.881988</td>\n",
       "      <td>0.049968</td>\n",
       "    </tr>\n",
       "    <tr>\n",
       "      <th>25</th>\n",
       "      <td>11</td>\n",
       "      <td>50</td>\n",
       "      <td>0.881988</td>\n",
       "      <td>0.049968</td>\n",
       "    </tr>\n",
       "    <tr>\n",
       "      <th>7</th>\n",
       "      <td>7</td>\n",
       "      <td>150</td>\n",
       "      <td>0.881988</td>\n",
       "      <td>0.046282</td>\n",
       "    </tr>\n",
       "    <tr>\n",
       "      <th>38</th>\n",
       "      <td>13</td>\n",
       "      <td>200</td>\n",
       "      <td>0.881988</td>\n",
       "      <td>0.034407</td>\n",
       "    </tr>\n",
       "    <tr>\n",
       "      <th>16</th>\n",
       "      <td>9</td>\n",
       "      <td>100</td>\n",
       "      <td>0.875776</td>\n",
       "      <td>0.065873</td>\n",
       "    </tr>\n",
       "    <tr>\n",
       "      <th>8</th>\n",
       "      <td>7</td>\n",
       "      <td>200</td>\n",
       "      <td>0.875776</td>\n",
       "      <td>0.058147</td>\n",
       "    </tr>\n",
       "    <tr>\n",
       "      <th>30</th>\n",
       "      <td>12</td>\n",
       "      <td>50</td>\n",
       "      <td>0.875776</td>\n",
       "      <td>0.048535</td>\n",
       "    </tr>\n",
       "    <tr>\n",
       "      <th>6</th>\n",
       "      <td>7</td>\n",
       "      <td>100</td>\n",
       "      <td>0.875776</td>\n",
       "      <td>0.041829</td>\n",
       "    </tr>\n",
       "    <tr>\n",
       "      <th>5</th>\n",
       "      <td>7</td>\n",
       "      <td>50</td>\n",
       "      <td>0.875776</td>\n",
       "      <td>0.032291</td>\n",
       "    </tr>\n",
       "    <tr>\n",
       "      <th>36</th>\n",
       "      <td>13</td>\n",
       "      <td>100</td>\n",
       "      <td>0.875776</td>\n",
       "      <td>0.027198</td>\n",
       "    </tr>\n",
       "    <tr>\n",
       "      <th>24</th>\n",
       "      <td>10</td>\n",
       "      <td>300</td>\n",
       "      <td>0.875776</td>\n",
       "      <td>0.041829</td>\n",
       "    </tr>\n",
       "    <tr>\n",
       "      <th>33</th>\n",
       "      <td>12</td>\n",
       "      <td>200</td>\n",
       "      <td>0.869565</td>\n",
       "      <td>0.050565</td>\n",
       "    </tr>\n",
       "    <tr>\n",
       "      <th>20</th>\n",
       "      <td>10</td>\n",
       "      <td>50</td>\n",
       "      <td>0.869565</td>\n",
       "      <td>0.035048</td>\n",
       "    </tr>\n",
       "    <tr>\n",
       "      <th>39</th>\n",
       "      <td>13</td>\n",
       "      <td>300</td>\n",
       "      <td>0.869565</td>\n",
       "      <td>0.039133</td>\n",
       "    </tr>\n",
       "    <tr>\n",
       "      <th>23</th>\n",
       "      <td>10</td>\n",
       "      <td>200</td>\n",
       "      <td>0.869565</td>\n",
       "      <td>0.035048</td>\n",
       "    </tr>\n",
       "    <tr>\n",
       "      <th>19</th>\n",
       "      <td>9</td>\n",
       "      <td>300</td>\n",
       "      <td>0.869565</td>\n",
       "      <td>0.035048</td>\n",
       "    </tr>\n",
       "    <tr>\n",
       "      <th>18</th>\n",
       "      <td>9</td>\n",
       "      <td>200</td>\n",
       "      <td>0.869565</td>\n",
       "      <td>0.039133</td>\n",
       "    </tr>\n",
       "    <tr>\n",
       "      <th>11</th>\n",
       "      <td>8</td>\n",
       "      <td>100</td>\n",
       "      <td>0.869565</td>\n",
       "      <td>0.035048</td>\n",
       "    </tr>\n",
       "    <tr>\n",
       "      <th>3</th>\n",
       "      <td>6</td>\n",
       "      <td>200</td>\n",
       "      <td>0.869565</td>\n",
       "      <td>0.035048</td>\n",
       "    </tr>\n",
       "    <tr>\n",
       "      <th>2</th>\n",
       "      <td>6</td>\n",
       "      <td>150</td>\n",
       "      <td>0.869565</td>\n",
       "      <td>0.056239</td>\n",
       "    </tr>\n",
       "    <tr>\n",
       "      <th>27</th>\n",
       "      <td>11</td>\n",
       "      <td>150</td>\n",
       "      <td>0.863354</td>\n",
       "      <td>0.030544</td>\n",
       "    </tr>\n",
       "    <tr>\n",
       "      <th>22</th>\n",
       "      <td>10</td>\n",
       "      <td>150</td>\n",
       "      <td>0.863354</td>\n",
       "      <td>0.030544</td>\n",
       "    </tr>\n",
       "    <tr>\n",
       "      <th>12</th>\n",
       "      <td>8</td>\n",
       "      <td>150</td>\n",
       "      <td>0.863354</td>\n",
       "      <td>0.047554</td>\n",
       "    </tr>\n",
       "    <tr>\n",
       "      <th>34</th>\n",
       "      <td>12</td>\n",
       "      <td>300</td>\n",
       "      <td>0.863354</td>\n",
       "      <td>0.044254</td>\n",
       "    </tr>\n",
       "    <tr>\n",
       "      <th>4</th>\n",
       "      <td>6</td>\n",
       "      <td>300</td>\n",
       "      <td>0.863354</td>\n",
       "      <td>0.047554</td>\n",
       "    </tr>\n",
       "    <tr>\n",
       "      <th>9</th>\n",
       "      <td>7</td>\n",
       "      <td>300</td>\n",
       "      <td>0.857143</td>\n",
       "      <td>0.050438</td>\n",
       "    </tr>\n",
       "    <tr>\n",
       "      <th>0</th>\n",
       "      <td>6</td>\n",
       "      <td>50</td>\n",
       "      <td>0.850932</td>\n",
       "      <td>0.033705</td>\n",
       "    </tr>\n",
       "  </tbody>\n",
       "</table>\n",
       "</div>"
      ],
      "text/plain": [
       "   param_max_depth param_n_estimators  mean_test_score  std_test_score\n",
       "28              11                200         0.894410        0.061315\n",
       "13               8                200         0.888199        0.053514\n",
       "14               8                300         0.888199        0.069269\n",
       "37              13                150         0.888199        0.053514\n",
       "29              11                300         0.888199        0.053514\n",
       "17               9                150         0.888199        0.053514\n",
       "35              13                 50         0.888199        0.039380\n",
       "10               8                 50         0.888199        0.029315\n",
       "15               9                 50         0.888199        0.039380\n",
       "32              12                150         0.888199        0.069269\n",
       "26              11                100         0.888199        0.058904\n",
       "21              10                100         0.881988        0.042306\n",
       "1                6                100         0.881988        0.046838\n",
       "31              12                100         0.881988        0.049968\n",
       "25              11                 50         0.881988        0.049968\n",
       "7                7                150         0.881988        0.046282\n",
       "38              13                200         0.881988        0.034407\n",
       "16               9                100         0.875776        0.065873\n",
       "8                7                200         0.875776        0.058147\n",
       "30              12                 50         0.875776        0.048535\n",
       "6                7                100         0.875776        0.041829\n",
       "5                7                 50         0.875776        0.032291\n",
       "36              13                100         0.875776        0.027198\n",
       "24              10                300         0.875776        0.041829\n",
       "33              12                200         0.869565        0.050565\n",
       "20              10                 50         0.869565        0.035048\n",
       "39              13                300         0.869565        0.039133\n",
       "23              10                200         0.869565        0.035048\n",
       "19               9                300         0.869565        0.035048\n",
       "18               9                200         0.869565        0.039133\n",
       "11               8                100         0.869565        0.035048\n",
       "3                6                200         0.869565        0.035048\n",
       "2                6                150         0.869565        0.056239\n",
       "27              11                150         0.863354        0.030544\n",
       "22              10                150         0.863354        0.030544\n",
       "12               8                150         0.863354        0.047554\n",
       "34              12                300         0.863354        0.044254\n",
       "4                6                300         0.863354        0.047554\n",
       "9                7                300         0.857143        0.050438\n",
       "0                6                 50         0.850932        0.033705"
      ]
     },
     "execution_count": 71,
     "metadata": {},
     "output_type": "execute_result"
    }
   ],
   "source": [
    "# Mostramos vector de promedios y desviaciones estandar para las distintas combinaciones de hiperparámetros\n",
    "resultados = pd.DataFrame(grid.cv_results_)\n",
    "resultados.filter(regex = '(param.*|mean_t|std_t)')\\\n",
    "    .drop(columns = 'params')\\\n",
    "    .sort_values('mean_test_score', ascending = False)"
   ]
  },
  {
   "cell_type": "code",
   "execution_count": 72,
   "metadata": {
    "scrolled": true
   },
   "outputs": [
    {
     "data": {
      "text/plain": [
       "RandomForestClassifier(bootstrap=True, class_weight=None, criterion='gini',\n",
       "                       max_depth=11, max_features='auto', max_leaf_nodes=None,\n",
       "                       min_impurity_decrease=0.0, min_impurity_split=None,\n",
       "                       min_samples_leaf=1, min_samples_split=2,\n",
       "                       min_weight_fraction_leaf=0.0, n_estimators=200,\n",
       "                       n_jobs=None, oob_score=False, random_state=None,\n",
       "                       verbose=0, warm_start=False)"
      ]
     },
     "execution_count": 72,
     "metadata": {},
     "output_type": "execute_result"
    }
   ],
   "source": [
    "# Entreno al grupo train con el agoritmo RandomForestClassifier\n",
    "RFC = RandomForestClassifier(max_depth=11, n_estimators=200)\n",
    "RFC.fit(X_train, y_train)"
   ]
  },
  {
   "cell_type": "code",
   "execution_count": 73,
   "metadata": {},
   "outputs": [
    {
     "name": "stdout",
     "output_type": "stream",
     "text": [
      "Acc: 0.9024\n"
     ]
    }
   ],
   "source": [
    "# Calculo las predicciones del modelo\n",
    "y_pred = RFC.predict(X_test)\n",
    "\n",
    "# Calculo la precisión del modelo y la muestro\n",
    "acc = accuracy_score(y_test, y_pred)\n",
    "print('Acc: {:.4f}'.format(acc))"
   ]
  },
  {
   "cell_type": "code",
   "execution_count": 74,
   "metadata": {
    "scrolled": true
   },
   "outputs": [
    {
     "data": {
      "image/png": "[encoded data removed]",
      "text/plain": [
       "<Figure size 432x288 with 2 Axes>"
      ]
     },
     "metadata": {
      "needs_background": "light"
     },
     "output_type": "display_data"
    }
   ],
   "source": [
    "# Creo la matriz de confusión y la muestro\n",
    "matriz = confusion_matrix(y_test, y_pred)\n",
    "sns.heatmap(matriz, annot = True)\n",
    "plt.xlabel('predicciones')\n",
    "plt.ylabel('realidades')\n",
    "plt.show()"
   ]
  },
  {
   "cell_type": "markdown",
   "metadata": {},
   "source": [
    "Observamos que nuestro modelo tiene una capacidad de predicción bastante aceptable, con un accuaricy del 90,24%."
   ]
  },
  {
   "cell_type": "markdown",
   "metadata": {},
   "source": [
    "### 5. Representación de los resultados a partir de tablas y gráficas.\n",
    "\n",
    "Este ejercicio de representación de resultados a partir de tablas y gráficas, ya se ha hecho en los apartados anteriores de manera simultánea a la resolución de cada ejercicio. No obstante, vamos a graficar el comportamiento de ser hipotecado o no en función de algunas variables, para completar una visión más global."
   ]
  },
  {
   "cell_type": "code",
   "execution_count": 75,
   "metadata": {},
   "outputs": [
    {
     "data": {
      "image/png": "[encoded data removed]",
      "text/plain": [
       "<Figure size 432x288 with 1 Axes>"
      ]
     },
     "metadata": {
      "needs_background": "light"
     },
     "output_type": "display_data"
    }
   ],
   "source": [
    "# Gráfico de barras de las variable hijos\n",
    "plot = pd.crosstab(index=hipotecas['hijos'], columns=hipotecas['hipoteca']).apply(lambda r: r/r.sum() *100, axis=0).plot(kind='bar')"
   ]
  },
  {
   "cell_type": "code",
   "execution_count": 76,
   "metadata": {},
   "outputs": [
    {
     "data": {
      "text/plain": [
       "<matplotlib.legend.Legend at 0x20b6ac6f898>"
      ]
     },
     "execution_count": 76,
     "metadata": {},
     "output_type": "execute_result"
    },
    {
     "data": {
      "image/png": "[encoded data removed]",
      "text/plain": [
       "<Figure size 432x288 with 1 Axes>"
      ]
     },
     "metadata": {
      "needs_background": "light"
     },
     "output_type": "display_data"
    }
   ],
   "source": [
    "# Localizamos registros de hipotecados y no hipotecados\n",
    "NOhip = hipotecas.loc[:, 'hipoteca'] == 'No hipoteca'\n",
    "SIhip = hipotecas.loc[:, 'hipoteca'] == 'Si hipoteca'\n",
    "\n",
    "# Mostramos histograma de ingresos\n",
    "plt.hist(hipotecas['ingresos'].loc[NOhip], alpha=0.5)\n",
    "plt.hist(hipotecas['ingresos'].loc[SIhip], alpha=0.5)\n",
    "plt.legend('01')"
   ]
  },
  {
   "cell_type": "code",
   "execution_count": 77,
   "metadata": {},
   "outputs": [
    {
     "data": {
      "text/plain": [
       "<matplotlib.legend.Legend at 0x20b6ad13fd0>"
      ]
     },
     "execution_count": 77,
     "metadata": {},
     "output_type": "execute_result"
    },
    {
     "data": {
      "image/png": "[encoded data removed]",
      "text/plain": [
       "<Figure size 432x288 with 1 Axes>"
      ]
     },
     "metadata": {
      "needs_background": "light"
     },
     "output_type": "display_data"
    }
   ],
   "source": [
    "# Mostramos histograma de gastos\n",
    "plt.hist(hipotecas['gastos'].loc[NOhip], alpha=0.5)\n",
    "plt.hist(hipotecas['gastos'].loc[SIhip], alpha=0.5)\n",
    "plt.legend('01')"
   ]
  },
  {
   "cell_type": "code",
   "execution_count": 78,
   "metadata": {},
   "outputs": [
    {
     "data": {
      "text/plain": [
       "<matplotlib.legend.Legend at 0x20b6abf04e0>"
      ]
     },
     "execution_count": 78,
     "metadata": {},
     "output_type": "execute_result"
    },
    {
     "data": {
      "image/png": "[encoded data removed]",
      "text/plain": [
       "<Figure size 432x288 with 1 Axes>"
      ]
     },
     "metadata": {
      "needs_background": "light"
     },
     "output_type": "display_data"
    }
   ],
   "source": [
    "# Mostramos histograma de ahorros\n",
    "plt.hist(hipotecas['ahorros'].loc[NOhip], alpha=0.5)\n",
    "plt.hist(hipotecas['ahorros'].loc[SIhip], alpha=0.5)\n",
    "plt.legend('01')"
   ]
  },
  {
   "cell_type": "code",
   "execution_count": 79,
   "metadata": {},
   "outputs": [
    {
     "data": {
      "text/plain": [
       "<matplotlib.legend.Legend at 0x20b6ae44dd8>"
      ]
     },
     "execution_count": 79,
     "metadata": {},
     "output_type": "execute_result"
    },
    {
     "data": {
      "image/png": "[encoded data removed]",
      "text/plain": [
       "<Figure size 432x288 with 1 Axes>"
      ]
     },
     "metadata": {
      "needs_background": "light"
     },
     "output_type": "display_data"
    }
   ],
   "source": [
    "# Mostramos histograma de vivienda\n",
    "plt.hist(hipotecas['vivienda'].loc[NOhip], alpha=0.5)\n",
    "plt.hist(hipotecas['vivienda'].loc[SIhip], alpha=0.5)\n",
    "plt.legend('01')"
   ]
  },
  {
   "cell_type": "markdown",
   "metadata": {},
   "source": [
    "También podemos visualizar los features más decisivos del Random Forest del apartado anterior."
   ]
  },
  {
   "cell_type": "code",
   "execution_count": 80,
   "metadata": {},
   "outputs": [
    {
     "name": "stdout",
     "output_type": "stream",
     "text": [
      "Feature: ingresos, Score: 0.26077\n",
      "Feature: gastos, Score: 0.08163\n",
      "Feature: ahorros, Score: 0.17912\n",
      "Feature: vivienda, Score: 0.22027\n",
      "Feature: soltero, Score: 0.03169\n",
      "Feature: casado, Score: 0.01476\n",
      "Feature: divorciado, Score: 0.01587\n",
      "Feature: hijos, Score: 0.09588\n",
      "Feature: t0, Score: 0.02327\n",
      "Feature: t1, Score: 0.00603\n",
      "Feature: t2, Score: 0.00762\n",
      "Feature: t3, Score: 0.00741\n",
      "Feature: t4, Score: 0.00996\n",
      "Feature: t5, Score: 0.01098\n",
      "Feature: t6, Score: 0.00966\n",
      "Feature: t7, Score: 0.01415\n",
      "Feature: t8, Score: 0.01091\n"
     ]
    }
   ],
   "source": [
    "# Visualicemos los features más decisivos\n",
    "importance = RFC.feature_importances_\n",
    "for i,v in enumerate(importance):\n",
    "\tprint('Feature: %0s, Score: %.5f' % (list(X_train.columns)[i],v))"
   ]
  },
  {
   "cell_type": "markdown",
   "metadata": {},
   "source": [
    "Las variables que han tenido más peso, al usar este algoritmo RandomForestClassifier, han sido \"ingresos\", \"vivienda\" y \"ahorros\" por ese orden y con bastante diferencia respecto al resto de variables."
   ]
  },
  {
   "cell_type": "markdown",
   "metadata": {},
   "source": [
    "### 6. Resolución del problema. A partir de los resultados obtenidos, ¿cuáles son las conclusiones? ¿Los resultados permiten responder al problema?"
   ]
  },
  {
   "cell_type": "markdown",
   "metadata": {},
   "source": [
    "Para contestar a este apartado, vamos a suponer un caso práctico en el que se podría utilizar nuestra base de datos. En este caso, la base de datos serviría para el entrenamiento de un modelo que permita, mediante nuevos inputs (nuevos clientes), poder darle una respuesta rápida de si tiene posibilidades que se le conceda la hipoteca o en caso contrario, si su caso debe ser estudiado más minuciosamente para poder concederle la hipoteca.\n",
    "\n",
    "Caso práctico:\n",
    "Suponed que trabajáis en un banco y os visitan clientes que quieren una hipoteca. Aunque se ha de realizar un estudio a fondo de cada caso, así _a priori_ utilizad el clasificador entrenado para tener una idea de si se les concederá la hipoteca o no.\n",
    "    \n",
    "   - Caso 1: Familia con unos ingresos de 2.000 € y unos gastos de 500 €, la pareja son empresarios y no tienen hijos. Necesitarían para tener la casa de sus sueños una financiación de 200.000 €.\n",
    "   - Caso 2: Familia con unos ingresos de 6.000 € y unos gastos de 3.400 €, la pareja uno es asalariado y el otro autónomo con dos hijos a su cargo. Necesitarían para tener la casa de sus sueños una financiación de 320.000 €.\n",
    "   - Caso 3: Una mujer soltera con unos ingresos de 9.000 € y unos gastos de 2.250 €, con un hijo a su cargo y de profesión autónoma. Necesitaría una financiación de 39.000 €."
   ]
  },
  {
   "cell_type": "code",
   "execution_count": 81,
   "metadata": {},
   "outputs": [
    {
     "data": {
      "text/html": [
       "<div>\n",
       "<style scoped>\n",
       "    .dataframe tbody tr th:only-of-type {\n",
       "        vertical-align: middle;\n",
       "    }\n",
       "\n",
       "    .dataframe tbody tr th {\n",
       "        vertical-align: top;\n",
       "    }\n",
       "\n",
       "    .dataframe thead th {\n",
       "        text-align: right;\n",
       "    }\n",
       "</style>\n",
       "<table border=\"1\" class=\"dataframe\">\n",
       "  <thead>\n",
       "    <tr style=\"text-align: right;\">\n",
       "      <th></th>\n",
       "      <th>caso1</th>\n",
       "      <th>caso2</th>\n",
       "      <th>caso3</th>\n",
       "    </tr>\n",
       "  </thead>\n",
       "  <tbody>\n",
       "    <tr>\n",
       "      <th>Predicciones:</th>\n",
       "      <td>No hipoteca</td>\n",
       "      <td>No hipoteca</td>\n",
       "      <td>Si hipoteca</td>\n",
       "    </tr>\n",
       "  </tbody>\n",
       "</table>\n",
       "</div>"
      ],
      "text/plain": [
       "                     caso1        caso2        caso3\n",
       "Predicciones:  No hipoteca  No hipoteca  Si hipoteca"
      ]
     },
     "execution_count": 81,
     "metadata": {},
     "output_type": "execute_result"
    }
   ],
   "source": [
    "# Creación de dataframe con los casos\n",
    "caso1 = pd.DataFrame(np.array([[2000, 500, 0, 200000, 0, 1, 0, 0, 0, 0, 0, 0, 0, 0, 0, 0, 1]]), columns=X_train.columns, index =['caso1'])\n",
    "caso2 = pd.DataFrame(np.array([[6000, 3400, 0, 320000, 0, 1, 0, 2, 0, 0, 0, 0, 0, 0, 1, 0, 0]]), columns=X_train.columns, index =['caso2'])\n",
    "caso3 = pd.DataFrame(np.array([[9000, 2250, 0, 39000, 1, 0, 0, 1, 0, 1, 0, 0, 0, 0, 0, 0, 0]]), columns=X_train.columns, index =['caso3'])\n",
    "casos = pd.concat([caso1, caso2, caso3])\n",
    "\n",
    "# Predicción de los casos\n",
    "pd.DataFrame([RFC.predict(casos)], columns = ['caso1', 'caso2', 'caso3'], index =['Predicciones:']).head()"
   ]
  }
 ],
 "metadata": {
  "kernelspec": {
   "display_name": "Python 3",
   "language": "python",
   "name": "python3"
  },
  "language_info": {
   "codemirror_mode": {
    "name": "ipython",
    "version": 3
   },
   "file_extension": ".py",
   "mimetype": "text/x-python",
   "name": "python",
   "nbconvert_exporter": "python",
   "pygments_lexer": "ipython3",
   "version": "3.7.3"
  }
 },
 "nbformat": 4,
 "nbformat_minor": 2
}
